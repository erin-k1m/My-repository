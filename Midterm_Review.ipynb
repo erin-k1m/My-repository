{
  "nbformat": 4,
  "nbformat_minor": 0,
  "metadata": {
    "colab": {
      "provenance": [],
      "include_colab_link": true
    },
    "kernelspec": {
      "name": "python3",
      "display_name": "Python 3"
    },
    "language_info": {
      "name": "python"
    }
  },
  "cells": [
    {
      "cell_type": "markdown",
      "metadata": {
        "id": "view-in-github",
        "colab_type": "text"
      },
      "source": [
        "<a href=\"https://colab.research.google.com/github/erin-k1m/My-repository/blob/main/Midterm_Review.ipynb\" target=\"_parent\"><img src=\"https://colab.research.google.com/assets/colab-badge.svg\" alt=\"Open In Colab\"/></a>"
      ]
    },
    {
      "cell_type": "markdown",
      "source": [
        "# Join the class Slido at https://app.sli.do/event/pHuVN3sUFUFUke1c4waES3\n",
        "\n",
        "![](https://drive.google.com/uc?id=1XzDpnJgMSTksmCaxpF2SpDCuhdiqkb26)\n"
      ],
      "metadata": {
        "id": "UVUi6fZPVTJI"
      }
    },
    {
      "cell_type": "markdown",
      "source": [
        "# Recursion and Generators"
      ],
      "metadata": {
        "id": "VufgAUu80JTh"
      }
    },
    {
      "cell_type": "markdown",
      "metadata": {
        "id": "HVN1Ewta4AIL"
      },
      "source": [
        "A _recursive_ function is a function that contains a call to itself, that is, it is a function that is defined in terms of itself.\n",
        "\n",
        "<img src=\"https://raw.githubusercontent.com/benedictpaten/intro_python/main/lecture_notebooks/figures/graffles/recursive.jpg\" width=600 height=300 />"
      ]
    },
    {
      "cell_type": "markdown",
      "source": [
        "There are cases where $f(n)$ needs to return a list or a set of elements. In such instances, constructing $f(n)$ requires iterating over all the elements in the list or set returned by the smaller problems. Let's look at a few examples.\n",
        "\n",
        "A boolean string is a string where each character is either 0 or 1. Write a recursive function `boolean_strings(n)` to enumerate the list of all boolean strings of length `n`. For instance, when n = 3, the list should contain `'000'`, `'001'`, `'010'`, `'011'`, `'100'`, `'101'`, `'110'`, `'111'`.\n",
        "\n",
        "**Hint:** The list of boolean strings of length `n` can be formed from the list of boolean stings of length `n-1`, by appending `'0'` and `'1'` separately to **EACH** of the boolean stings of length `n-1`.\n",
        "\n",
        "In formulas: $f(n) =$ [ '0', '1' ] if $n = 1$; otherwise,\n",
        "\n",
        "$$\n",
        "f(n) = \\big[\"0\" + x \\mid x \\in f(n-1) \\big] \\bigcup \\big[\"1\" + x \\mid x \\in f(n-1) \\big]\n",
        "$$"
      ],
      "metadata": {
        "id": "zKb0ojFv0W8d"
      }
    },
    {
      "cell_type": "code",
      "source": [
        "def boolean_strings(n):\n",
        "    \"\"\" Returns the set of boolean strings of length n\n",
        "    \"\"\"\n",
        "    # write code here\n",
        "    # Base case: If n is 1, return a list with two elements: \"0\" and \"1\"\n",
        "    if n == 1:\n",
        "        return ['0', '1']\n",
        "    else:\n",
        "\n",
        "    # Recursive case: Generate all strings of length n\n",
        "    # For each string in the smaller strings of length n-1, append '0' and '1'\n",
        "        return ['0' + s for s in boolean_strings(n - 1)] + ['1' + s for s in boolean_strings(n - 1)]\n",
        "\n",
        "\n",
        "boolean_strings(3)"
      ],
      "metadata": {
        "id": "0UqWLn1H1LwJ"
      },
      "execution_count": null,
      "outputs": []
    },
    {
      "cell_type": "markdown",
      "source": [
        "Please rewrite the above code to be a generator function that produces all boolean strings of length `n`."
      ],
      "metadata": {
        "id": "2pTqEUUp1QWx"
      }
    },
    {
      "cell_type": "code",
      "source": [
        "def boolean_strings_generator(n):\n",
        "    \"\"\" Yield boolean strings of length n\n",
        "    \"\"\"\n",
        "\n",
        "\n",
        "\n",
        "\n",
        "for i in boolean_strings_generator(3)\n",
        "    print(i)"
      ],
      "metadata": {
        "id": "wdcP1VOc1lFO"
      },
      "execution_count": null,
      "outputs": []
    },
    {
      "cell_type": "markdown",
      "source": [
        "## Operator overloading\n",
        "\n",
        "We can redefine the functionality of built-in operators such as `<`, `>=`, `+`, and `-` when used with objects of a class, which is known as operator overloading.\n",
        "\n",
        "The following table describes rich comparison methods and the corresponding relational operator that is overloaded.\n",
        "\n",
        "|Rich comparison method\t| Overloaded operator |\n",
        "|-|-|\n",
        "|`__lt__(self, other)` | less than (<) |\n",
        "|`__le__(self, other)` | less than or equal to (<=) |\n",
        "|`__gt__(self, other)` | greater than (>) |\n",
        "|`__ge__(self, other)` | greater than or equal to (>=) |\n",
        "|`__eq__(self, other)` | equal to (==) |\n",
        "|`__ne__(self, other)` | not equal to (!=) |\n",
        "\n",
        "Numeric operators, such as `+`,`-`, `*`, and `/` can also be overloaded. The table below lists some of the most common methods and the correspoding numeric operators that is overloaded.\n",
        "\n",
        "|Method\t| Overloaded operator |\n",
        "|-|-|\n",
        "|`__add__(self, other)`     |\tadd (+)                     |\n",
        "|`__sub__(self, other)`     |\tsubtract (-)                |\n",
        "|`__mul__(self, other)`     |\tmultiply (*)                |\n",
        "|`__truediv__(self, other)` |\tdivide (/)                  |\n",
        "|`__mod__(self, other)`     |\tmodulus (%)                 |\n",
        "|`__pow__(self, other)`     |\texponentiation (**)         |\n",
        "|`__and__(self, other)`     |\t\"and\" logical operator (&)  |\n",
        "|`__or__(self, other)`      |\t\"or\" logical operator (\\|)  |"
      ],
      "metadata": {
        "id": "XMG5laqa1_ky"
      }
    },
    {
      "cell_type": "code",
      "source": [
        "import math\n",
        "\n",
        "class Point(object):\n",
        "    \"\"\" Point with values x and y on a 2D plane. \"\"\"\n",
        "\n",
        "    def __init__(self, x=0, y=0):\n",
        "        \"\"\"\n",
        "        Constructor for a point object with x, y coordinates\n",
        "        \"\"\"\n",
        "        self.x = x\n",
        "        self.y = y\n",
        "\n",
        "    @property\n",
        "    def distance_from_origin(self):\n",
        "        \"\"\"\n",
        "        The distance of the point from the origin (0,0)\n",
        "        \"\"\"\n",
        "        return math.sqrt(self.x * self.x + self.y * self.y)\n",
        "\n",
        "    def __repr__(self):\n",
        "        return f\"Point({self.x}, {self.y})\"\n",
        "\n",
        "    def __gt__(self, other):\n",
        "        \"\"\" Write Code Here \"\"\"\n",
        "\n",
        "    def __sub__(self, other):\n",
        "        \"\"\" Write Code Here \"\"\""
      ],
      "metadata": {
        "id": "850Ijc1T1_Fi"
      },
      "execution_count": null,
      "outputs": []
    },
    {
      "cell_type": "markdown",
      "source": [
        "# Stacks and Queues\n",
        "\n",
        "Write a class `Queue` to implement a normal queue using a list. Write code for the `__init__` method, `add()` method and `get()` method."
      ],
      "metadata": {
        "id": "3TYq1Hd4Uuic"
      }
    },
    {
      "cell_type": "code",
      "source": [
        "class Queue(object):\n",
        "\n",
        "    def __init__(self):\n",
        "        self.queue = []\n",
        "\n",
        "\n",
        "    def add(self, x):\n",
        "        \"\"\" Write Code Here \"\"\"\n",
        "\n",
        "    def get(self):\n",
        "        \"\"\" Write Code Here \"\"\""
      ],
      "metadata": {
        "id": "PXCjJy_4U2pV"
      },
      "execution_count": null,
      "outputs": []
    }
  ]
}